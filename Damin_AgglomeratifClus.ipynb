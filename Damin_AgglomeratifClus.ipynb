{
  "nbformat": 4,
  "nbformat_minor": 0,
  "metadata": {
    "colab": {
      "name": "Damin_AgglomeratifClus",
      "provenance": [],
      "collapsed_sections": []
    },
    "kernelspec": {
      "name": "python3",
      "display_name": "Python 3"
    }
  },
  "cells": [
    {
      "cell_type": "code",
      "metadata": {
        "id": "wO322gGV1Htc",
        "colab_type": "code",
        "colab": {}
      },
      "source": [
        "import matplotlib.pyplot as plt\n",
        "import numpy as np\n",
        "import pandas as pd\n",
        "%matplotlib inline\n",
        "from sklearn.cluster import AgglomerativeClustering\n",
        "# https://stackabuse.com/hierarchical-clustering-with-python-and-scikit-learn/\n",
        "\n",
        "X = np.array([[12,39],[69,36],[28,30],[18,52],\n",
        "              [29,74],[33,46],[24,55],[45,59],\n",
        "              [45,63],[52,70],[51,66],[52,70],\n",
        "              [51,66],[52,63],[55,58],[53,23],\n",
        "              [55,14],[61,8],[64,19],[72,24],])\n",
        "\n",
        "\n",
        "# labels = range (1, 11)\n",
        "# plt.figure(figsize=(10,5))\n",
        "# plt.subplots_adjust(bottom=0.1)\n",
        "# plt.scatter(X[:,0],X[:,1], label = 'True Position')\n",
        "\n",
        "# for label, x, y in zip(labels, X[:,0],X[:,1]):\n",
        "#   plt.annotate(\n",
        "#       label,\n",
        "#       xy=(x, y), xytext=(-3, 3),\n",
        "#       textcoords='offset points', ha='right', va='bottom'\n",
        "#   )\n",
        "\n",
        "# plt.show()"
      ],
      "execution_count": 0,
      "outputs": []
    },
    {
      "cell_type": "code",
      "metadata": {
        "id": "M0PHfPir4K0H",
        "colab_type": "code",
        "outputId": "d89bf98f-1548-4022-8cea-caacebebd360",
        "colab": {
          "base_uri": "https://localhost:8080/",
          "height": 34
        }
      },
      "source": [
        "cluster  = AgglomerativeClustering(n_clusters=3, affinity='euclidean', linkage='ward')\n",
        "cluster.fit_predict(X)\n",
        "print(cluster.labels_)"
      ],
      "execution_count": 0,
      "outputs": [
        {
          "output_type": "stream",
          "text": [
            "[2 1 2 2 0 2 2 0 0 0 0 0 0 0 0 1 1 1 1 1]\n"
          ],
          "name": "stdout"
        }
      ]
    },
    {
      "cell_type": "code",
      "metadata": {
        "id": "1MzYwAa54gWi",
        "colab_type": "code",
        "outputId": "b4ff2930-07ef-44f3-a356-ca18019c56ee",
        "colab": {
          "base_uri": "https://localhost:8080/",
          "height": 282
        }
      },
      "source": [
        "plt.scatter(X[:,0],X[:,1], c=cluster.labels_, cmap='rainbow')"
      ],
      "execution_count": 0,
      "outputs": [
        {
          "output_type": "execute_result",
          "data": {
            "text/plain": [
              "<matplotlib.collections.PathCollection at 0x7fcaf64f6ef0>"
            ]
          },
          "metadata": {
            "tags": []
          },
          "execution_count": 12
        },
        {
          "output_type": "display_data",
          "data": {
            "image/png": "[encoded data removed]",
            "text/plain": [
              "<Figure size 432x288 with 1 Axes>"
            ]
          },
          "metadata": {
            "tags": []
          }
        }
      ]
    }
  ]
}